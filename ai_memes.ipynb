{
  "nbformat": 4,
  "nbformat_minor": 0,
  "metadata": {
    "colab": {
      "name": "ai-memes.ipynb",
      "provenance": [],
      "collapsed_sections": [],
      "authorship_tag": "ABX9TyPDLKd0DGpKv41yxmVddOik",
      "include_colab_link": true
    },
    "kernelspec": {
      "name": "python3",
      "display_name": "Python 3"
    }
  },
  "cells": [
    {
      "cell_type": "markdown",
      "metadata": {
        "id": "view-in-github",
        "colab_type": "text"
      },
      "source": [
        "<a href=\"https://colab.research.google.com/github/schesa/ai-memes/blob/master/ai_memes.ipynb\" target=\"_parent\"><img src=\"https://colab.research.google.com/assets/colab-badge.svg\" alt=\"Open In Colab\"/></a>"
      ]
    },
    {
      "cell_type": "markdown",
      "metadata": {
        "id": "ARgLBeh1dQM0",
        "colab_type": "text"
      },
      "source": [
        "# Mount Drive"
      ]
    },
    {
      "cell_type": "code",
      "metadata": {
        "id": "I_pdHnRbc3K5",
        "colab_type": "code",
        "outputId": "4da3c0f1-ea80-4e5d-8006-6f91a3f35c87",
        "colab": {
          "base_uri": "https://localhost:8080/",
          "height": 139
        }
      },
      "source": [
        "try:\n",
        "    from google.colab import drive\n",
        "    drive.mount('/content/drive', force_remount=True)\n",
        "    print('Note: using Google CoLab')\n",
        "    COLAB = True\n",
        "except:\n",
        "    print('Note: not using Google Colab')\n",
        "    COLAB = False\n",
        "\n",
        "if COLAB:\n",
        "    root_path = \"/content/drive/My Drive/licenta AC/Chesa/data\"\n",
        "else:\n",
        "    root_path = \"./data/captions\""
      ],
      "execution_count": 1,
      "outputs": [
        {
          "output_type": "stream",
          "text": [
            "Go to this URL in a browser: https://accounts.google.com/o/oauth2/auth?client_id=947318989803-6bn6qk8qdgf4n4g3pfee6491hc0brc4i.apps.googleusercontent.com&redirect_uri=urn%3aietf%3awg%3aoauth%3a2.0%3aoob&response_type=code&scope=email%20https%3a%2f%2fwww.googleapis.com%2fauth%2fdocs.test%20https%3a%2f%2fwww.googleapis.com%2fauth%2fdrive%20https%3a%2f%2fwww.googleapis.com%2fauth%2fdrive.photos.readonly%20https%3a%2f%2fwww.googleapis.com%2fauth%2fpeopleapi.readonly\n",
            "\n",
            "Enter your authorization code:\n",
            "··········\n",
            "Mounted at /content/drive\n",
            "Note: using Google CoLab\n"
          ],
          "name": "stdout"
        }
      ]
    },
    {
      "cell_type": "markdown",
      "metadata": {
        "id": "BYCvXqA7fKAN",
        "colab_type": "text"
      },
      "source": [
        "### Get Dataset\n",
        "* **root_captioning** = \"/content/drive/My Drive/licenta AC/Chesa/data\"\n",
        "* **lookup** -> dict key: Meme id, value list captions containing words & punctuations splitted by space\n",
        "* remove non ascii captions\n",
        "* lex -> set of unique words\n",
        "* max_length -> Maximum length of a caption (in words)\n",
        "\n",
        "### Prepare Dataset\n",
        "* split into **train** and **test**\n",
        "* train_images set, train_img list, string path '3001612175_53567ffb58.jpg'\n",
        "* train_descriptions set, add start/stop get from lookup by train_image \n",
        "  ['2092870249_90e3f1855b': ['startseq a ... , ... a jack . endseq'],]\n",
        "* all_train_captions - all merged in list\n",
        "* InceptionV3\n",
        "\n"
      ]
    },
    {
      "cell_type": "code",
      "metadata": {
        "id": "UTH_jiizRoCz",
        "colab_type": "code",
        "colab": {
          "base_uri": "https://localhost:8080/",
          "height": 68
        },
        "outputId": "345abc7e-525c-4875-e158-f36cb0c0bb9e"
      },
      "source": [
        "import os\n",
        "from pathlib import Path\n",
        "import json\n",
        "from tqdm import tqdm\n",
        "from functools import reduce\n",
        "\n",
        "isascii_word = lambda w: len(w) == len(w.encode())\n",
        "isascii_list = lambda l: reduce(lambda rez, word: rez & True if isascii_word(word) else False & rez, l, True)\n",
        "dirname = os.path.join(root_path, 'ImgFlip500K_Dataset', 'memes')\n",
        "lookup = dict()\n",
        "\n",
        "def print_iterator(it):\n",
        "    for x in it:\n",
        "        print(x, end='\\n')\n",
        "    print('')  # for new line\n",
        "\n",
        "for filename in tqdm(os.listdir(dirname)): # foreach json file in memes\n",
        "    meme_name = Path(filename).stem # remove file extension\n",
        "    with open(os.path.join(dirname, filename)) as json_file:\n",
        "      memes = json.load(json_file)\n",
        "      # lookup[meme_name] = list(map(lambda meme: ' | '.join(meme['boxes']), memes))\n",
        "      lookup[meme_name] = []\n",
        "      for meme in memes:\n",
        "        words = ' | '.join(meme['boxes'])\n",
        "        if isascii_list(words):\n",
        "          lookup[meme_name].append(words)\n",
        "\n",
        "\n",
        "print(f'Memes loaded: {len(lookup)}') # 99 memes, in the latest dataset 100\n",
        "print(f'Meme example: {lookup[\"Mocking-Spongebob\"][0]}') # when you off the dope | and you think you a bird"
      ],
      "execution_count": 2,
      "outputs": [
        {
          "output_type": "stream",
          "text": [
            "100%|██████████| 99/99 [00:50<00:00,  1.97it/s]"
          ],
          "name": "stderr"
        },
        {
          "output_type": "stream",
          "text": [
            "Memes loaded: 99\n",
            "Meme example: when you off the dope | and you think you a bird\n"
          ],
          "name": "stdout"
        },
        {
          "output_type": "stream",
          "text": [
            "\n"
          ],
          "name": "stderr"
        }
      ]
    },
    {
      "cell_type": "code",
      "metadata": {
        "id": "qWr-qXGaWPC0",
        "colab_type": "code",
        "colab": {
          "base_uri": "https://localhost:8080/",
          "height": 68
        },
        "outputId": "61a5d88f-6742-44e1-c66d-7e392e508cdc"
      },
      "source": [
        "max_length = 0\n",
        "lex = set() # set of unique words\n",
        "# for key in lookup:\n",
        "#   [lex.update(d.split()) for d in lookup[key]]\n",
        "#   big_word = reduce(lambda l, rez: len(max(l.split(), key=lambda x: len(x))) if len(max(l.split(), key=lambda x: len(x))) > len(rez) else rez, lookup[key])\n",
        "#   if(len(big_word)> max_length):\n",
        "#     max_length = len(big_word)\n",
        "#     max_word = big_word\n",
        "#   break\n",
        "for desc in lookup:\n",
        "  for word in desc.split():\n",
        "    lex.add(word)\n",
        "    if max_length < len(word):\n",
        "      max_length=max(max_length,len(word))\n",
        "      max_word = word\n",
        "\n",
        "print(f'Unique words: {len(lex)}')\n",
        "print(f'Biggest word: {max_length} chars')\n",
        "max_word\n"
      ],
      "execution_count": 3,
      "outputs": [
        {
          "output_type": "stream",
          "text": [
            "Unique words: 99\n",
            "Biggest word: 46 chars\n"
          ],
          "name": "stdout"
        },
        {
          "output_type": "execute_result",
          "data": {
            "text/plain": [
              "'Bernie-I-Am-Once-Again-Asking-For-Your-Support'"
            ]
          },
          "metadata": {
            "tags": []
          },
          "execution_count": 3
        }
      ]
    },
    {
      "cell_type": "code",
      "metadata": {
        "id": "XF1-o5GYHq8C",
        "colab_type": "code",
        "colab": {
          "base_uri": "https://localhost:8080/",
          "height": 34
        },
        "outputId": "4e71d9e9-75a6-4c86-c753-d8e252cb6a9b"
      },
      "source": [
        "START = \"startseq\"\n",
        "STOP = \"endseq\"\n",
        "# same as lookup but captions wrapped in Start/Stop\n",
        "train_descriptions = {k:v for k,v in lookup.items()}\n",
        "for n,v in train_descriptions.items(): \n",
        "  for d in range(len(v)):\n",
        "    v[d] = f'{START} {v[d]} {STOP}'\n",
        "    \n",
        "print(f'Wrapped captions in Start/Stop')"
      ],
      "execution_count": 4,
      "outputs": [
        {
          "output_type": "stream",
          "text": [
            "Wrapped captions in Start/Stop\n"
          ],
          "name": "stdout"
        }
      ]
    },
    {
      "cell_type": "code",
      "metadata": {
        "id": "w74A5YweyJey",
        "colab_type": "code",
        "colab": {
          "base_uri": "https://localhost:8080/",
          "height": 88
        },
        "outputId": "0e7e29b2-10a1-4a4f-cb3f-1f94e5357f5c"
      },
      "source": [
        "from tensorflow.keras.applications.inception_v3 import InceptionV3\n",
        "import tensorflow.keras.applications.inception_v3\n",
        "from tensorflow.keras.models import Model\n",
        "\n",
        "encode_model = InceptionV3(weights='imagenet')\n",
        "encode_model = Model(encode_model.input, encode_model.layers[-2].output)\n",
        "WIDTH = 299\n",
        "HEIGHT = 299\n",
        "OUTPUT_DIM = 2048\n",
        "preprocess_input = tensorflow.keras.applications.inception_v3.preprocess_input\n",
        "\n",
        "print('InceptionV3 loaded!')"
      ],
      "execution_count": 5,
      "outputs": [
        {
          "output_type": "stream",
          "text": [
            "Downloading data from https://storage.googleapis.com/tensorflow/keras-applications/inception_v3/inception_v3_weights_tf_dim_ordering_tf_kernels.h5\n",
            "96116736/96112376 [==============================] - 1s 0us/step\n",
            "InceptionV3 loaded!\n"
          ],
          "name": "stdout"
        }
      ]
    },
    {
      "cell_type": "code",
      "metadata": {
        "id": "i4jZwJln0rsD",
        "colab_type": "code",
        "colab": {}
      },
      "source": [
        "from PIL import Image\n",
        "import tensorflow.keras.preprocessing.image\n",
        "import numpy as np\n",
        "\n",
        "def encodeImage(img):\n",
        "  # Resize all images to a standard size (specified bythe image encoding network)\n",
        "  img = img.resize((WIDTH, HEIGHT), Image.ANTIALIAS)\n",
        "  # Convert a PIL image to a numpy array\n",
        "  x = tensorflow.keras.preprocessing.image.img_to_array(img)\n",
        "  # Expand to 2D array\n",
        "  x = np.expand_dims(x, axis=0)\n",
        "  # Perform any preprocessing needed by InceptionV3 or others\n",
        "  x = preprocess_input(x)\n",
        "  # Call InceptionV3 (or other) to extract the smaller feature set for the image.\n",
        "  x = encode_model.predict(x) # Get the encoding vector for the image\n",
        "  # Shape to correct form to be accepted by LSTM captioning network.\n",
        "  x = np.reshape(x, OUTPUT_DIM )\n",
        "  return x"
      ],
      "execution_count": 0,
      "outputs": []
    },
    {
      "cell_type": "code",
      "metadata": {
        "id": "b2IxNro5PZgX",
        "colab_type": "code",
        "colab": {}
      },
      "source": [
        "# Nicely formatted time string\n",
        "def hms_string(sec_elapsed):\n",
        "    h = int(sec_elapsed / (60 * 60))\n",
        "    m = int((sec_elapsed % (60 * 60)) / 60)\n",
        "    s = sec_elapsed % 60\n",
        "    return f\"{h}:{m:>02}:{s:>05.2f}\""
      ],
      "execution_count": 0,
      "outputs": []
    },
    {
      "cell_type": "code",
      "metadata": {
        "id": "R1tqKiPpbKZh",
        "colab_type": "code",
        "colab": {
          "base_uri": "https://localhost:8080/",
          "height": 34
        },
        "outputId": "a6b5c6a6-16ea-4b8b-c68e-086d42250c28"
      },
      "source": [
        "import pickle\n",
        "from time import time\n",
        "\n",
        "train_path = os.path.join(root_path,'ImgFlip500K_Dataset',\"data\",f'train{OUTPUT_DIM}.pkl')\n",
        "if not os.path.exists(train_path):\n",
        "  start = time()\n",
        "  encoding_train = {}\n",
        "  train_images_path = os.path.join(root_path,'ImgFlip500K_Dataset','templates','img') \n",
        "  for image_path in tqdm(os.listdir(train_images_path)):\n",
        "    # print(image_path)\n",
        "    img = tensorflow.keras.preprocessing.image.load_img(os.path.join(train_images_path,image_path), target_size=(HEIGHT, WIDTH))\n",
        "    encoding_train[image_path] = encodeImage(img)\n",
        "  with open(train_path, \"wb\") as fp:\n",
        "    pickle.dump(encoding_train, fp)\n",
        "  print(f\"\\nGenerating training set took: {hms_string(time()-start)}\")\n",
        "else:\n",
        "  with open(train_path, \"rb\") as fp:\n",
        "    encoding_train = pickle.load(fp)\n",
        "print('Loaded')"
      ],
      "execution_count": 28,
      "outputs": [
        {
          "output_type": "stream",
          "text": [
            "Loaded\n"
          ],
          "name": "stdout"
        }
      ]
    }
  ]
}